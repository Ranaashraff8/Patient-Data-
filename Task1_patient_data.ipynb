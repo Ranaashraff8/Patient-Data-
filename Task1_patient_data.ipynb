{
 "cells": [
  {
   "cell_type": "markdown",
   "metadata": {},
   "source": [
    "# Patient Data Investigation"
   ]
  },
  {
   "cell_type": "markdown",
   "metadata": {},
   "source": [
    "\n",
    "\n",
    "![](https://i.imgur.com/Ffjv44w.gif)\n"
   ]
  },
  {
   "cell_type": "markdown",
   "metadata": {},
   "source": [
    "\n",
    "<div style=\"color: White; display: fill;\n",
    "            border-radius: 5px;\n",
    "            background-color: #362FD9;\n",
    "            font-size: 100%;\n",
    "            font-family: Verdana\">\n",
    "\n",
    "<p style=\"padding: 7px; color: Black;\">\n",
    "      <ul>  📌 <b>Glucose</b> - Glucose measeuer.<br>\n",
    "        📌 <b>BloodPressure</b> - blood Pressuer measured.<br>\n",
    "        📌 <b>Age</b> - Age of the patient.<br>\n",
    "        📌 <b>Gender</b> - Gender of the patient (Male/Female).<br>\n",
    "        📌 <b>BMI</b> - Boody Mass Index of the patient<br>\n",
    "    <p style = \"padding: 3px; color: Black;\">\n"
   ]
  },
  {
   "cell_type": "markdown",
   "metadata": {},
   "source": [
    "### Import important Libraries"
   ]
  },
  {
   "cell_type": "code",
   "execution_count": null,
   "metadata": {},
   "outputs": [],
   "source": []
  },
  {
   "cell_type": "markdown",
   "metadata": {},
   "source": [
    "### Load patient_data.csv using pandas"
   ]
  },
  {
   "cell_type": "code",
   "execution_count": null,
   "metadata": {},
   "outputs": [],
   "source": []
  },
  {
   "cell_type": "markdown",
   "metadata": {},
   "source": []
  },
  {
   "cell_type": "markdown",
   "metadata": {},
   "source": [
    "## Exploring the Dataset & Data Preperation"
   ]
  },
  {
   "cell_type": "markdown",
   "metadata": {},
   "source": [
    "### 1. Check Data types & Nulls & Duplicates then handel them if any."
   ]
  },
  {
   "cell_type": "code",
   "execution_count": null,
   "metadata": {},
   "outputs": [],
   "source": []
  },
  {
   "cell_type": "markdown",
   "metadata": {},
   "source": [
    "### 2. Get the minimum, maximum and average values of each field "
   ]
  },
  {
   "cell_type": "code",
   "execution_count": null,
   "metadata": {},
   "outputs": [],
   "source": []
  },
  {
   "cell_type": "markdown",
   "metadata": {},
   "source": [
    "### 3. Get the number of patients whose age is above 50 and have blood pressure of 70 or higher"
   ]
  },
  {
   "cell_type": "code",
   "execution_count": null,
   "metadata": {},
   "outputs": [],
   "source": []
  },
  {
   "cell_type": "markdown",
   "metadata": {},
   "source": [
    " # Exploratory Data Analysis (EDA)"
   ]
  },
  {
   "cell_type": "code",
   "execution_count": null,
   "metadata": {},
   "outputs": [],
   "source": []
  },
  {
   "cell_type": "markdown",
   "metadata": {},
   "source": [
    "### 4. Plot the number of males and females in a bar plot and, for each gender, print the average BMI "
   ]
  },
  {
   "cell_type": "code",
   "execution_count": null,
   "metadata": {},
   "outputs": [],
   "source": []
  },
  {
   "cell_type": "markdown",
   "metadata": {},
   "source": [
    "### 5. Investiagte the dataset and plot your insights"
   ]
  },
  {
   "cell_type": "code",
   "execution_count": null,
   "metadata": {},
   "outputs": [],
   "source": []
  },
  {
   "cell_type": "markdown",
   "metadata": {},
   "source": [
    "---\n",
    "\n",
    "<div style=\"text-align: center;\">\n",
    "  <p>Thank you for your time and efforts!</p>\n",
    "  <h3>By: Mahmoud El Sayed</h3>\n",
    "  <div style=\"display: inline-block;\">\n",
    "    <a href=\"mailto:eng.mhemaly@gmail.com\" title=\"Redirect to e-mail\">\n",
    "      <img src=\"./pics/mail.png\" alt=\"e-mail\" style=\"width: 50px; height: 50px; margin: 0 10px;\">\n",
    "    </a>\n",
    "    <a href=\"https://wa.me/+201555584904/\" title=\"Redirect to What'sApp\">\n",
    "      <img src=\"./pics/whatsapp.jpeg\" alt=\"What'sApp\" style=\"width: 50px; height: 50px; margin: 0 10px;\">\n",
    "    </a>\n",
    "    <a href=\"https://linkedin.com/in/mahmoudelhemaly/\" title=\"Redirect to LinkedIn\">\n",
    "      <img src=\"./pics/linkedin.png\" alt=\"LinkedIn\" style=\"width: 50px; height: 50px; margin: 0 10px;\">\n",
    "    </a>\n",
    "  </div>\n",
    "</div>\n"
   ]
  }
 ],
 "metadata": {
  "kernelspec": {
   "display_name": "base",
   "language": "python",
   "name": "python3"
  },
  "language_info": {
   "codemirror_mode": {
    "name": "ipython",
    "version": 3
   },
   "file_extension": ".py",
   "mimetype": "text/x-python",
   "name": "python",
   "nbconvert_exporter": "python",
   "pygments_lexer": "ipython3",
   "version": "3.11.5"
  }
 },
 "nbformat": 4,
 "nbformat_minor": 2
}
